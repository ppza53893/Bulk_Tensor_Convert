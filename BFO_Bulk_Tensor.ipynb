{
  "nbformat": 4,
  "nbformat_minor": 0,
  "metadata": {
    "colab": {
      "name": "BFO_Bulk_Tensor.ipynb",
      "provenance": [],
      "collapsed_sections": [],
      "authorship_tag": "ABX9TyPr/GDEE74JY9GU4hwrxEaF",
      "include_colab_link": true
    },
    "kernelspec": {
      "name": "python3",
      "display_name": "Python 3"
    }
  },
  "cells": [
    {
      "cell_type": "markdown",
      "metadata": {
        "id": "view-in-github",
        "colab_type": "text"
      },
      "source": [
        "<a href=\"https://colab.research.google.com/github/ppza53893/Bulk_Tensor_Convert/blob/main/BFO_Bulk_Tensor.ipynb\" target=\"_parent\"><img src=\"https://colab.research.google.com/assets/colab-badge.svg\" alt=\"Open In Colab\"/></a>"
      ]
    },
    {
      "cell_type": "markdown",
      "metadata": {
        "id": "xgrE-4tPXhZi"
      },
      "source": [
        "BiFeO3の(111)方向のバルク光起電力のテンソル導出を行います。\n",
        "セルはctrl + Enterで実行可能です\n",
        "$$\n",
        "\\newcommand{\\vect}[1]{\\boldsymbol{#1}} \\\\\n",
        "$$"
      ]
    },
    {
      "cell_type": "code",
      "metadata": {
        "id": "NA1aWd1eUmeE"
      },
      "source": [
        "# 必要なモジュールをインポート\n",
        "import sympy\n",
        "from sympy import Symbol, Matrix\n",
        "from sympy import sin, cos, acos, sqrt, pi\n",
        "\n",
        "sympy.init_printing()"
      ],
      "execution_count": null,
      "outputs": []
    },
    {
      "cell_type": "markdown",
      "metadata": {
        "id": "mHMW7rTnY2hw"
      },
      "source": [
        "まずは$\\vect{\\beta}_{\\rm ijk}$成分を定義しておきます。$3\\times3\\times3=27$個です。\n",
        "\n",
        "ただ、全部定義するものアレなので、要素を減らしていきます。  \n",
        "まず、$\\rm j, k$成分は光電界$\\vect{e}$の偏微分の分母が交換可能であることを利用します。これで27個から18個まで減らせます。"
      ]
    },
    {
      "cell_type": "code",
      "metadata": {
        "id": "RYkG9-u3Y8dD"
      },
      "source": [
        "b111 = Symbol('β_111')\n",
        "b112 = Symbol('β_112')\n",
        "b113 = Symbol('β_113')\n",
        "# b121 = Symbol('β_121') = b121\n",
        "b122 = Symbol('β_122')\n",
        "b123 = Symbol('β_123')\n",
        "# b131 = Symbol('β_131') = b113\n",
        "# b132 = Symbol('β_132') = b123\n",
        "b133 = Symbol('β_133')\n",
        "b211 = Symbol('β_211')\n",
        "b212 = Symbol('β_212')\n",
        "b213 = Symbol('β_213')\n",
        "# b221 = Symbol('β_221') = b212\n",
        "b222 = Symbol('β_222')\n",
        "b223 = Symbol('β_223')\n",
        "# b231 = Symbol('β_231') = b213\n",
        "# b232 = Symbol('β_232') = b223\n",
        "b233 = Symbol('β_233')\n",
        "b311 = Symbol('β_311')\n",
        "b312 = Symbol('β_312')\n",
        "b313 = Symbol('β_313')\n",
        "# b321 = Symbol('β_321') = b312\n",
        "b322 = Symbol('β_322')\n",
        "b323 = Symbol('β_323')\n",
        "# b331 = Symbol('β_331') = b313\n",
        "# b332 = Symbol('β_332') = b323\n",
        "b333 = Symbol('β_333')"
      ],
      "execution_count": null,
      "outputs": []
    },
    {
      "cell_type": "markdown",
      "metadata": {
        "id": "iRCslLDNpXZf"
      },
      "source": [
        "ここで$\\vect{\\beta}_{ijk}$を次のように表現します。卒論とかではこういう表現です:\n",
        "\n",
        "$$\n",
        "    \\left [ \n",
        "        \\matrix{\n",
        "            \\beta_{111}& \\beta_{122}& \\beta_{133}& \\beta_{123}& \\beta_{113}& \\beta_{112} \\\\\n",
        "            \\beta_{211}& \\beta_{222}& \\beta_{233}& \\beta_{223}& \\beta_{213}& \\beta_{212} \\\\\n",
        "            \\beta_{311}& \\beta_{322}& \\beta_{333}& \\beta_{323}& \\beta_{313}& \\beta_{312} \\\\\n",
        "            }\n",
        "    \\right ] \\tag{1}\n",
        "$$\n",
        "\n",
        "プログラミングを使って計算する場合、ちょっとこれはやりづらいので、次のように表現します。\n",
        "\n",
        "$$\n",
        "    \\left [\n",
        "        \\matrix{\n",
        "            \\vect{\\beta}_{\\rm 11k} & \\vect{\\beta}_{\\rm 12k} & \\vect{\\beta}_{\\rm 13k} \\\\\n",
        "            \\vect{\\beta}_{\\rm 21k} & \\vect{\\beta}_{\\rm 22k} & \\vect{\\beta}_{\\rm 23k} \\\\\n",
        "            \\vect{\\beta}_{\\rm 31k} & \\vect{\\beta}_{\\rm 32k} & \\vect{\\beta}_{\\rm 33k} \\\\\n",
        "        }\n",
        "    \\right ]\n",
        "$$\n",
        "各要素は3つの成分をもつ3行1列の行列です。例えば\n",
        "$$\n",
        "    \\vect{\\beta}_{\\rm 11k} = \\left [\n",
        "        \\matrix{\n",
        "            \\beta_{\\rm 111} & \\beta_{\\rm 112} & \\beta_{\\rm 113}\n",
        "            }\n",
        "    \\right ]\n",
        "$$"
      ]
    },
    {
      "cell_type": "code",
      "metadata": {
        "colab": {
          "base_uri": "https://localhost:8080/",
          "height": 78
        },
        "id": "myRjP_xOpScO",
        "outputId": "54cb0c34-6613-46d3-8fbe-98dabdf452c8"
      },
      "source": [
        "Beta = Matrix([\n",
        "    [[b111, b112, b113],[b112, b122, b123],[b113, b123, b133]],\n",
        "    [[b211, b212, b213],[b212, b222, b223],[b213, b223, b233]],\n",
        "    [[b311, b312, b313],[b312, b322, b323],[b313, b323, b333]]\n",
        "    ])\n",
        "Beta"
      ],
      "execution_count": null,
      "outputs": [
        {
          "output_type": "execute_result",
          "data": {
            "text/latex": "$\\displaystyle \\left[\\begin{matrix}\\left[ β_{111}, \\  β_{112}, \\  β_{113}\\right] & \\left[ β_{112}, \\  β_{122}, \\  β_{123}\\right] & \\left[ β_{113}, \\  β_{123}, \\  β_{133}\\right]\\\\\\left[ β_{211}, \\  β_{212}, \\  β_{213}\\right] & \\left[ β_{212}, \\  β_{222}, \\  β_{223}\\right] & \\left[ β_{213}, \\  β_{223}, \\  β_{233}\\right]\\\\\\left[ β_{311}, \\  β_{312}, \\  β_{313}\\right] & \\left[ β_{312}, \\  β_{322}, \\  β_{323}\\right] & \\left[ β_{313}, \\  β_{323}, \\  β_{333}\\right]\\end{matrix}\\right]$",
            "text/plain": [
              "⎡[β₁₁₁, β₁₁₂, β₁₁₃]  [β₁₁₂, β₁₂₂, β₁₂₃]  [β₁₁₃, β₁₂₃, β₁₃₃]⎤\n",
              "⎢                                                          ⎥\n",
              "⎢[β₂₁₁, β₂₁₂, β₂₁₃]  [β₂₁₂, β₂₂₂, β₂₂₃]  [β₂₁₃, β₂₂₃, β₂₃₃]⎥\n",
              "⎢                                                          ⎥\n",
              "⎣[β₃₁₁, β₃₁₂, β₃₁₃]  [β₃₁₂, β₃₂₂, β₃₂₃]  [β₃₁₃, β₃₂₃, β₃₃₃]⎦"
            ]
          },
          "metadata": {
            "tags": []
          },
          "execution_count": 3
        }
      ]
    },
    {
      "cell_type": "markdown",
      "metadata": {
        "id": "BK0PXicPtL4K"
      },
      "source": [
        "$\\vect{\\beta}$の要素はさらに減らすことができます。点群の対称操作によって座標系を$(\\rm i,j,k)$から$(\\rm l,m,n)$に変換する式は次のようになります:\n",
        "$$\n",
        "\\vect{\\beta}_{\\rm lmn} = \\vect{T}_{\\rm il}\\vect{T}_{\\rm jm}\\vect{T}_{\\rm kn}\\vect{\\beta}_{\\rm lmn} \\tag{2}\n",
        "$$\n",
        "\n",
        "まず、BiFeO3は3mに属するので、3つの鏡映面をとります。軸の位置については僕の卒論とか林本さんの修論を見ていただければと思いますが、それぞれを$\\vect{u}, \\vect{v}, \\vect{u}+\\vect{v}$とします。\n",
        "\n",
        "まず、$\\vect{u}+\\vect{v}$の鏡映操作を考えます。これはyz平面に対する鏡映操作になるので、得られる$\\vect{T}$は、\n",
        "$$\n",
        "    \\vect{T}_{\\rm ij} = \\left [\n",
        "        \\matrix{\n",
        "            -1&0&0 \\\\\n",
        "            0&1&0 \\\\\n",
        "            0&0&1\n",
        "        }\n",
        "    \\right ] \\tag{3}\n",
        "$$\n",
        "となります。式(3)は対角成分しか持たないのですから、$\\beta$の各成分は次のように表現できるはずです。\n",
        "$$\n",
        "\\beta_{\\rm lmn} = T_{\\rm ll}T_{\\rm mm}T_{\\rm nn}\\beta_{\\rm ijk}\\tag{4}\n",
        "$$\n",
        "$\\rm l, m, n$の中で1になる要素が奇数個あれば$T_{11}$の要素が1または3個含まれることになるので$\\beta_{\\rm lmn}=-\\beta_{\\rm lmn}$、偶数個の時は$\\beta_{\\rm lmn}=\\beta_{\\rm lmn}$になります。さらに奇数個の場合は変形して$\\beta_{\\rm lmn}=0$になるので、鏡映操作でもかなり減らせるようになります。\n",
        "\n",
        "実際に計算してみましょう。"
      ]
    },
    {
      "cell_type": "code",
      "metadata": {
        "colab": {
          "base_uri": "https://localhost:8080/",
          "height": 78
        },
        "id": "gR8YYNozvhHy",
        "outputId": "83bc626b-3821-4381-9195-11ccb6ecc8ed"
      },
      "source": [
        "T_mirror = Matrix([[-1, 0, 0], [0, 1 ,0], [0, 0, 1]])\n",
        "T_mirror"
      ],
      "execution_count": null,
      "outputs": [
        {
          "output_type": "execute_result",
          "data": {
            "text/latex": "$\\displaystyle \\left[\\begin{matrix}-1 & 0 & 0\\\\0 & 1 & 0\\\\0 & 0 & 1\\end{matrix}\\right]$",
            "text/plain": [
              "⎡-1  0  0⎤\n",
              "⎢        ⎥\n",
              "⎢0   1  0⎥\n",
              "⎢        ⎥\n",
              "⎣0   0  1⎦"
            ]
          },
          "metadata": {
            "tags": []
          },
          "execution_count": 4
        }
      ]
    },
    {
      "cell_type": "markdown",
      "metadata": {
        "id": "gICnIY2svr1d"
      },
      "source": [
        "式3の$\\vect{T}$を(2)の$\\vect{T}$に代入します。式計算は次の関数で可能です:"
      ]
    },
    {
      "cell_type": "code",
      "metadata": {
        "id": "1Vt-q-8nUv_z"
      },
      "source": [
        "def newvalue(r, s, t, Beta, transTensor):\n",
        "    tmp = 0\n",
        "    for i in range(3):\n",
        "        for j in range(3):\n",
        "            for k in range(3):\n",
        "                tmp += transTensor[r,i]*transTensor[s,j]*transTensor[t,k]*Beta[i,j][k]\n",
        "    return tmp\n",
        "\n",
        "def calculate_tensor(beta, tensor):\n",
        "    \"\"\"\n",
        "    参考\n",
        "    http://save.sys.t.u-tokyo.ac.jp/~kawai/basic/node214.html\n",
        "    \"\"\"\n",
        "    Beta_new= Matrix([\n",
        "        [[0,0,0],[0,0,0],[0,0,0]],\n",
        "        [[0,0,0],[0,0,0],[0,0,0]],\n",
        "        [[0,0,0],[0,0,0],[0,0,0]]\n",
        "        ])\n",
        "\n",
        "    for r in range(3):\n",
        "        for s in range(3):\n",
        "            for t in range(3):\n",
        "                Beta_new[r, s][t] = newvalue(r, s, t, beta, tensor)\n",
        "    \n",
        "    return Beta_new"
      ],
      "execution_count": null,
      "outputs": []
    },
    {
      "cell_type": "code",
      "metadata": {
        "colab": {
          "base_uri": "https://localhost:8080/",
          "height": 78
        },
        "id": "UeM1nhxnwv9G",
        "outputId": "03277b70-fcee-4cab-9d9d-b2ff9a86e5a6"
      },
      "source": [
        "Beta_new = calculate_tensor(Beta, T_mirror)\n",
        "Beta_new"
      ],
      "execution_count": null,
      "outputs": [
        {
          "output_type": "execute_result",
          "data": {
            "text/latex": "$\\displaystyle \\left[\\begin{matrix}\\left[ - β_{111}, \\  β_{112}, \\  β_{113}\\right] & \\left[ β_{112}, \\  - β_{122}, \\  - β_{123}\\right] & \\left[ β_{113}, \\  - β_{123}, \\  - β_{133}\\right]\\\\\\left[ β_{211}, \\  - β_{212}, \\  - β_{213}\\right] & \\left[ - β_{212}, \\  β_{222}, \\  β_{223}\\right] & \\left[ - β_{213}, \\  β_{223}, \\  β_{233}\\right]\\\\\\left[ β_{311}, \\  - β_{312}, \\  - β_{313}\\right] & \\left[ - β_{312}, \\  β_{322}, \\  β_{323}\\right] & \\left[ - β_{313}, \\  β_{323}, \\  β_{333}\\right]\\end{matrix}\\right]$",
            "text/plain": [
              "⎡[-β₁₁₁, β₁₁₂, β₁₁₃]   [β₁₁₂, -β₁₂₂, -β₁₂₃]  [β₁₁₃, -β₁₂₃, -β₁₃₃]⎤\n",
              "⎢                                                                ⎥\n",
              "⎢[β₂₁₁, -β₂₁₂, -β₂₁₃]  [-β₂₁₂, β₂₂₂, β₂₂₃]   [-β₂₁₃, β₂₂₃, β₂₃₃] ⎥\n",
              "⎢                                                                ⎥\n",
              "⎣[β₃₁₁, -β₃₁₂, -β₃₁₃]  [-β₃₁₂, β₃₂₂, β₃₂₃]   [-β₃₁₃, β₃₂₃, β₃₃₃] ⎦"
            ]
          },
          "metadata": {
            "tags": []
          },
          "execution_count": 6
        }
      ]
    },
    {
      "cell_type": "markdown",
      "metadata": {
        "id": "Cplsk5sM0Lk1"
      },
      "source": [
        "上の結果の中で負になる要素は全て0になります。したがって\n",
        "\n",
        "$\\beta_{111}=\\beta_{122}=\\beta_{123}=\\beta_{133}=\\beta_{212}=\\beta_{213}=\\beta_{312}=\\beta_{313}=0 \\tag{5} $\n",
        "\n",
        "となるわけです。したがって、この時点で\n",
        "\n",
        "$$\n",
        "    \\left [ \n",
        "        \\matrix{\n",
        "            0& 0& 0& 0& \\beta_{113}& \\beta_{112} \\\\\n",
        "            \\beta_{211}& \\beta_{222}& \\beta_{233}& \\beta_{223}& 0& 0 \\\\\n",
        "            \\beta_{311}& \\beta_{322}& \\beta_{333}& \\beta_{323}& 0& 0 \\\\\n",
        "            }\n",
        "    \\right ] \\tag{6}\n",
        "$$\n",
        "となっています。"
      ]
    },
    {
      "cell_type": "code",
      "metadata": {
        "colab": {
          "base_uri": "https://localhost:8080/",
          "height": 78
        },
        "id": "6eY863pw8bVj",
        "outputId": "e396d4f2-ca05-46ba-ab0e-74f88eef33e2"
      },
      "source": [
        "Beta_6 = Matrix([\n",
        "    [[0, b112, b113],[b112, 0, 0],[b113, 0, 0]],\n",
        "    [[b211, 0, 0],[0, b222, b223],[0, b223, b233]],\n",
        "    [[b311, 0, 0],[0, b322, b323],[0, b323, b333]]\n",
        "    ])\n",
        "Beta_6"
      ],
      "execution_count": null,
      "outputs": [
        {
          "output_type": "execute_result",
          "data": {
            "text/latex": "$\\displaystyle \\left[\\begin{matrix}\\left[ 0, \\  β_{112}, \\  β_{113}\\right] & \\left[ β_{112}, \\  0, \\  0\\right] & \\left[ β_{113}, \\  0, \\  0\\right]\\\\\\left[ β_{211}, \\  0, \\  0\\right] & \\left[ 0, \\  β_{222}, \\  β_{223}\\right] & \\left[ 0, \\  β_{223}, \\  β_{233}\\right]\\\\\\left[ β_{311}, \\  0, \\  0\\right] & \\left[ 0, \\  β_{322}, \\  β_{323}\\right] & \\left[ 0, \\  β_{323}, \\  β_{333}\\right]\\end{matrix}\\right]$",
            "text/plain": [
              "⎡[0, β₁₁₂, β₁₁₃]   [β₁₁₂, 0, 0]     [β₁₁₃, 0, 0]  ⎤\n",
              "⎢                                                 ⎥\n",
              "⎢ [β₂₁₁, 0, 0]    [0, β₂₂₂, β₂₂₃]  [0, β₂₂₃, β₂₃₃]⎥\n",
              "⎢                                                 ⎥\n",
              "⎣ [β₃₁₁, 0, 0]    [0, β₃₂₂, β₃₂₃]  [0, β₃₂₃, β₃₃₃]⎦"
            ]
          },
          "metadata": {
            "tags": []
          },
          "execution_count": 7
        }
      ]
    },
    {
      "cell_type": "markdown",
      "metadata": {
        "id": "xaonqk8w1CBN"
      },
      "source": [
        "次に$\\vect{u}, \\vect{v}$の鏡映操作を考えましょう。$x$軸とのなす角が$\\theta$の直線に対する鏡映操作の変換行列は、$x$軸から$2\\theta$だけ回転させたときの座標変換行列に等しいです。つまり、\n",
        "$$\n",
        "    \\vect{T}_{\\rm ij} = \\left [\n",
        "        \\matrix{\n",
        "            \\cos{2\\theta}&-\\sin{2\\theta}&0 \\\\\n",
        "            \\sin{2\\theta}&\\cos{2\\theta}&0 \\\\\n",
        "            0&0&1\n",
        "        }\n",
        "    \\right ] \\tag{7}\n",
        "$$\n",
        "となります。$\\vect{u}$軸は$\\theta=30^\\circ$なので、\n",
        "$$\n",
        "    \\vect{T}_{\\rm ij} = \\left [\n",
        "        \\matrix{\n",
        "            \\frac{1}{2}&-\\frac{\\sqrt{3}}{2}&0 \\\\\n",
        "            \\frac{\\sqrt{3}}{2}&\\frac{1}{2}&0 \\\\\n",
        "            0&0&1\n",
        "        }\n",
        "    \\right ] \\tag{8}\n",
        "$$\n",
        "$\\vect{v}$軸は$\\theta=150^\\circ$なので、\n",
        "$$\n",
        "    \\vect{T}_{\\rm ij} = \\left [\n",
        "        \\matrix{\n",
        "            -\\frac{1}{2}&-\\frac{\\sqrt{3}}{2}&0 \\\\\n",
        "            \\frac{\\sqrt{3}}{2}&-\\frac{1}{2}&0 \\\\\n",
        "            0&0&1\n",
        "        }\n",
        "    \\right ] \\tag{9}\n",
        "$$\n",
        "です。BiFeO3は3回回転軸をもつので、さらに$\\theta=-120^\\circ$についても考えると、\n",
        "$$\n",
        "    \\vect{T}_{\\rm ij} = \\left [\n",
        "        \\matrix{\n",
        "            -\\frac{1}{2}&\\frac{\\sqrt{3}}{2}&0 \\\\\n",
        "            -\\frac{\\sqrt{3}}{2}&-\\frac{1}{2}&0 \\\\\n",
        "            0&0&1\n",
        "        }\n",
        "    \\right ] \\tag{10}\n",
        "$$\n",
        "となります。式(7)~(9)を(6)に実際に代入してみましょう。\n"
      ]
    },
    {
      "cell_type": "code",
      "metadata": {
        "id": "qLT9HPv35RWS"
      },
      "source": [
        "def trans_tensor(theta):\n",
        "    return Matrix([[cos(2*theta),-sin(2*theta),0],[sin(2*theta),cos(2*theta),0],[0,0,1]])"
      ],
      "execution_count": null,
      "outputs": []
    },
    {
      "cell_type": "code",
      "metadata": {
        "colab": {
          "base_uri": "https://localhost:8080/",
          "height": 78
        },
        "id": "3jdKIBp-6pKA",
        "outputId": "03c35ccb-9e00-4ba0-ec48-097c151cae6b"
      },
      "source": [
        "trans_tensor(Symbol('θ'))"
      ],
      "execution_count": null,
      "outputs": [
        {
          "output_type": "execute_result",
          "data": {
            "text/latex": "$\\displaystyle \\left[\\begin{matrix}\\cos{\\left(2 θ \\right)} & - \\sin{\\left(2 θ \\right)} & 0\\\\\\sin{\\left(2 θ \\right)} & \\cos{\\left(2 θ \\right)} & 0\\\\0 & 0 & 1\\end{matrix}\\right]$",
            "text/plain": [
              "⎡cos(2⋅θ)  -sin(2⋅θ)  0⎤\n",
              "⎢                      ⎥\n",
              "⎢sin(2⋅θ)  cos(2⋅θ)   0⎥\n",
              "⎢                      ⎥\n",
              "⎣   0          0      1⎦"
            ]
          },
          "metadata": {
            "tags": []
          },
          "execution_count": 9
        }
      ]
    },
    {
      "cell_type": "code",
      "metadata": {
        "colab": {
          "base_uri": "https://localhost:8080/",
          "height": 88
        },
        "id": "fXnzLMk96u25",
        "outputId": "8c9eb5dd-f2f0-4bc2-a0bb-a501cf56f7be"
      },
      "source": [
        "T_u = trans_tensor(pi/6)\n",
        "T_u"
      ],
      "execution_count": null,
      "outputs": [
        {
          "output_type": "execute_result",
          "data": {
            "text/latex": "$\\displaystyle \\left[\\begin{matrix}\\frac{1}{2} & - \\frac{\\sqrt{3}}{2} & 0\\\\\\frac{\\sqrt{3}}{2} & \\frac{1}{2} & 0\\\\0 & 0 & 1\\end{matrix}\\right]$",
            "text/plain": [
              "⎡     -√3    ⎤\n",
              "⎢1/2  ────  0⎥\n",
              "⎢      2     ⎥\n",
              "⎢            ⎥\n",
              "⎢√3          ⎥\n",
              "⎢──   1/2   0⎥\n",
              "⎢2           ⎥\n",
              "⎢            ⎥\n",
              "⎣ 0    0    1⎦"
            ]
          },
          "metadata": {
            "tags": []
          },
          "execution_count": 10
        }
      ]
    },
    {
      "cell_type": "code",
      "metadata": {
        "colab": {
          "base_uri": "https://localhost:8080/",
          "height": 88
        },
        "id": "5cWFhZbm657N",
        "outputId": "a3ef0995-b6b5-4d4a-e30b-ad592445b023"
      },
      "source": [
        "T_v = trans_tensor(5*pi/6)\n",
        "T_v"
      ],
      "execution_count": null,
      "outputs": [
        {
          "output_type": "execute_result",
          "data": {
            "text/latex": "$\\displaystyle \\left[\\begin{matrix}\\frac{1}{2} & \\frac{\\sqrt{3}}{2} & 0\\\\- \\frac{\\sqrt{3}}{2} & \\frac{1}{2} & 0\\\\0 & 0 & 1\\end{matrix}\\right]$",
            "text/plain": [
              "⎡      √3    ⎤\n",
              "⎢1/2   ──   0⎥\n",
              "⎢      2     ⎥\n",
              "⎢            ⎥\n",
              "⎢-√3         ⎥\n",
              "⎢────  1/2  0⎥\n",
              "⎢ 2          ⎥\n",
              "⎢            ⎥\n",
              "⎣ 0     0   1⎦"
            ]
          },
          "metadata": {
            "tags": []
          },
          "execution_count": 11
        }
      ]
    },
    {
      "cell_type": "code",
      "metadata": {
        "colab": {
          "base_uri": "https://localhost:8080/",
          "height": 88
        },
        "id": "-XyurxAT6-fI",
        "outputId": "08a8a2d1-6fc0-4ec7-c88c-35f00d547348"
      },
      "source": [
        "T_3 = trans_tensor(-2*pi/3)\n",
        "T_3"
      ],
      "execution_count": null,
      "outputs": [
        {
          "output_type": "execute_result",
          "data": {
            "text/latex": "$\\displaystyle \\left[\\begin{matrix}- \\frac{1}{2} & - \\frac{\\sqrt{3}}{2} & 0\\\\\\frac{\\sqrt{3}}{2} & - \\frac{1}{2} & 0\\\\0 & 0 & 1\\end{matrix}\\right]$",
            "text/plain": [
              "⎡      -√3    ⎤\n",
              "⎢-1/2  ────  0⎥\n",
              "⎢       2     ⎥\n",
              "⎢             ⎥\n",
              "⎢ √3          ⎥\n",
              "⎢ ──   -1/2  0⎥\n",
              "⎢ 2           ⎥\n",
              "⎢             ⎥\n",
              "⎣ 0     0    1⎦"
            ]
          },
          "metadata": {
            "tags": []
          },
          "execution_count": 12
        }
      ]
    },
    {
      "cell_type": "code",
      "metadata": {
        "id": "WQm2a8XB7EVi"
      },
      "source": [
        "Beta_u = calculate_tensor(Beta_6, T_u)\n",
        "Beta_v = calculate_tensor(Beta_6, T_v)\n",
        "Beta_3 = calculate_tensor(Beta_6, T_3)"
      ],
      "execution_count": null,
      "outputs": []
    },
    {
      "cell_type": "code",
      "metadata": {
        "colab": {
          "base_uri": "https://localhost:8080/",
          "height": 109
        },
        "id": "HKmcEQ6N7MVT",
        "outputId": "e10638a9-13c0-4917-a5a9-2a13dcc58df6"
      },
      "source": [
        "Beta_u"
      ],
      "execution_count": null,
      "outputs": [
        {
          "output_type": "execute_result",
          "data": {
            "text/latex": "$\\displaystyle \\left[\\begin{matrix}\\left[ - \\frac{\\sqrt{3} β_{112}}{4} - \\frac{\\sqrt{3} β_{211}}{8} - \\frac{3 \\sqrt{3} β_{222}}{8}, \\  - \\frac{β_{112}}{4} - \\frac{3 β_{211}}{8} + \\frac{3 β_{222}}{8}, \\  \\frac{β_{113}}{4} + \\frac{3 β_{223}}{4}\\right] & \\left[ - \\frac{β_{112}}{4} - \\frac{3 β_{211}}{8} + \\frac{3 β_{222}}{8}, \\  \\frac{\\sqrt{3} β_{112}}{4} - \\frac{3 \\sqrt{3} β_{211}}{8} - \\frac{\\sqrt{3} β_{222}}{8}, \\  \\frac{\\sqrt{3} β_{113}}{4} - \\frac{\\sqrt{3} β_{223}}{4}\\right] & \\left[ \\frac{β_{113}}{4} + \\frac{3 β_{223}}{4}, \\  \\frac{\\sqrt{3} β_{113}}{4} - \\frac{\\sqrt{3} β_{223}}{4}, \\  - \\frac{\\sqrt{3} β_{233}}{2}\\right]\\\\\\left[ - \\frac{3 β_{112}}{4} + \\frac{β_{211}}{8} + \\frac{3 β_{222}}{8}, \\  - \\frac{\\sqrt{3} β_{112}}{4} + \\frac{\\sqrt{3} β_{211}}{8} - \\frac{\\sqrt{3} β_{222}}{8}, \\  \\frac{\\sqrt{3} β_{113}}{4} - \\frac{\\sqrt{3} β_{223}}{4}\\right] & \\left[ - \\frac{\\sqrt{3} β_{112}}{4} + \\frac{\\sqrt{3} β_{211}}{8} - \\frac{\\sqrt{3} β_{222}}{8}, \\  \\frac{3 β_{112}}{4} + \\frac{3 β_{211}}{8} + \\frac{β_{222}}{8}, \\  \\frac{3 β_{113}}{4} + \\frac{β_{223}}{4}\\right] & \\left[ \\frac{\\sqrt{3} β_{113}}{4} - \\frac{\\sqrt{3} β_{223}}{4}, \\  \\frac{3 β_{113}}{4} + \\frac{β_{223}}{4}, \\  \\frac{β_{233}}{2}\\right]\\\\\\left[ \\frac{β_{311}}{4} + \\frac{3 β_{322}}{4}, \\  \\frac{\\sqrt{3} β_{311}}{4} - \\frac{\\sqrt{3} β_{322}}{4}, \\  - \\frac{\\sqrt{3} β_{323}}{2}\\right] & \\left[ \\frac{\\sqrt{3} β_{311}}{4} - \\frac{\\sqrt{3} β_{322}}{4}, \\  \\frac{3 β_{311}}{4} + \\frac{β_{322}}{4}, \\  \\frac{β_{323}}{2}\\right] & \\left[ - \\frac{\\sqrt{3} β_{323}}{2}, \\  \\frac{β_{323}}{2}, \\  β_{333}\\right]\\end{matrix}\\right]$",
            "text/plain": [
              "⎡ ⎡  √3⋅β₁₁₂   √3⋅β₂₁₁   3⋅√3⋅β₂₂₂    β₁₁₂   3⋅β₂₁₁   3⋅β₂₂₂  β₁₁₃   3⋅β₂₂₃⎤  \n",
              "⎢ ⎢- ─────── - ─────── - ─────────, - ──── - ────── + ──────, ──── + ──────⎥  \n",
              "⎢ ⎣     4         8          8         4       8        8      4       4   ⎦  \n",
              "⎢                                                                             \n",
              "⎢⎡  3⋅β₁₁₂   β₂₁₁   3⋅β₂₂₂    √3⋅β₁₁₂   √3⋅β₂₁₁   √3⋅β₂₂₂  √3⋅β₁₁₃   √3⋅β₂₂₃⎤ \n",
              "⎢⎢- ────── + ──── + ──────, - ─────── + ─────── - ───────, ─────── - ───────⎥ \n",
              "⎢⎣    4       8       8          4         8         8        4         4   ⎦ \n",
              "⎢                                                                             \n",
              "⎢               ⎡β₃₁₁   3⋅β₃₂₂  √3⋅β₃₁₁   √3⋅β₃₂₂  -√3⋅β₃₂₃ ⎤                 \n",
              "⎢               ⎢──── + ──────, ─────── - ───────, ─────────⎥                 \n",
              "⎣               ⎣ 4       4        4         4         2    ⎦                 \n",
              "\n",
              " ⎡  β₁₁₂   3⋅β₂₁₁   3⋅β₂₂₂  √3⋅β₁₁₂   3⋅√3⋅β₂₁₁   √3⋅β₂₂₂  √3⋅β₁₁₃   √3⋅β₂₂₃⎤ \n",
              " ⎢- ──── - ────── + ──────, ─────── - ───────── - ───────, ─────── - ───────⎥ \n",
              " ⎣   4       8        8        4          8          8        4         4   ⎦ \n",
              "                                                                              \n",
              "    ⎡  √3⋅β₁₁₂   √3⋅β₂₁₁   √3⋅β₂₂₂  3⋅β₁₁₂   3⋅β₂₁₁   β₂₂₂  3⋅β₁₁₃   β₂₂₃⎤    \n",
              "    ⎢- ─────── + ─────── - ───────, ────── + ────── + ────, ────── + ────⎥    \n",
              "    ⎣     4         8         8       4        8       8      4       4  ⎦    \n",
              "                                                                              \n",
              "                   ⎡√3⋅β₃₁₁   √3⋅β₃₂₂  3⋅β₃₁₁   β₃₂₂  β₃₂₃⎤                   \n",
              "                   ⎢─────── - ───────, ────── + ────, ────⎥                   \n",
              "                   ⎣   4         4       4       4     2  ⎦                   \n",
              "\n",
              " ⎡β₁₁₃   3⋅β₂₂₃  √3⋅β₁₁₃   √3⋅β₂₂₃  -√3⋅β₂₃₃ ⎤⎤\n",
              " ⎢──── + ──────, ─────── - ───────, ─────────⎥⎥\n",
              " ⎣ 4       4        4         4         2    ⎦⎥\n",
              "                                              ⎥\n",
              "   ⎡√3⋅β₁₁₃   √3⋅β₂₂₃  3⋅β₁₁₃   β₂₂₃  β₂₃₃⎤   ⎥\n",
              "   ⎢─────── - ───────, ────── + ────, ────⎥   ⎥\n",
              "   ⎣   4         4       4       4     2  ⎦   ⎥\n",
              "                                              ⎥\n",
              "            ⎡-√3⋅β₃₂₃   β₃₂₃      ⎤           ⎥\n",
              "            ⎢─────────, ────, β₃₃₃⎥           ⎥\n",
              "            ⎣    2       2        ⎦           ⎦"
            ]
          },
          "metadata": {
            "tags": []
          },
          "execution_count": 14
        }
      ]
    },
    {
      "cell_type": "code",
      "metadata": {
        "colab": {
          "base_uri": "https://localhost:8080/",
          "height": 109
        },
        "id": "CEoua1NM7U1v",
        "outputId": "0cccc3ca-1bb0-4b26-fa58-b9ffc78cf39b"
      },
      "source": [
        "Beta_v"
      ],
      "execution_count": null,
      "outputs": [
        {
          "output_type": "execute_result",
          "data": {
            "text/latex": "$\\displaystyle \\left[\\begin{matrix}\\left[ \\frac{\\sqrt{3} β_{112}}{4} + \\frac{\\sqrt{3} β_{211}}{8} + \\frac{3 \\sqrt{3} β_{222}}{8}, \\  - \\frac{β_{112}}{4} - \\frac{3 β_{211}}{8} + \\frac{3 β_{222}}{8}, \\  \\frac{β_{113}}{4} + \\frac{3 β_{223}}{4}\\right] & \\left[ - \\frac{β_{112}}{4} - \\frac{3 β_{211}}{8} + \\frac{3 β_{222}}{8}, \\  - \\frac{\\sqrt{3} β_{112}}{4} + \\frac{3 \\sqrt{3} β_{211}}{8} + \\frac{\\sqrt{3} β_{222}}{8}, \\  - \\frac{\\sqrt{3} β_{113}}{4} + \\frac{\\sqrt{3} β_{223}}{4}\\right] & \\left[ \\frac{β_{113}}{4} + \\frac{3 β_{223}}{4}, \\  - \\frac{\\sqrt{3} β_{113}}{4} + \\frac{\\sqrt{3} β_{223}}{4}, \\  \\frac{\\sqrt{3} β_{233}}{2}\\right]\\\\\\left[ - \\frac{3 β_{112}}{4} + \\frac{β_{211}}{8} + \\frac{3 β_{222}}{8}, \\  \\frac{\\sqrt{3} β_{112}}{4} - \\frac{\\sqrt{3} β_{211}}{8} + \\frac{\\sqrt{3} β_{222}}{8}, \\  - \\frac{\\sqrt{3} β_{113}}{4} + \\frac{\\sqrt{3} β_{223}}{4}\\right] & \\left[ \\frac{\\sqrt{3} β_{112}}{4} - \\frac{\\sqrt{3} β_{211}}{8} + \\frac{\\sqrt{3} β_{222}}{8}, \\  \\frac{3 β_{112}}{4} + \\frac{3 β_{211}}{8} + \\frac{β_{222}}{8}, \\  \\frac{3 β_{113}}{4} + \\frac{β_{223}}{4}\\right] & \\left[ - \\frac{\\sqrt{3} β_{113}}{4} + \\frac{\\sqrt{3} β_{223}}{4}, \\  \\frac{3 β_{113}}{4} + \\frac{β_{223}}{4}, \\  \\frac{β_{233}}{2}\\right]\\\\\\left[ \\frac{β_{311}}{4} + \\frac{3 β_{322}}{4}, \\  - \\frac{\\sqrt{3} β_{311}}{4} + \\frac{\\sqrt{3} β_{322}}{4}, \\  \\frac{\\sqrt{3} β_{323}}{2}\\right] & \\left[ - \\frac{\\sqrt{3} β_{311}}{4} + \\frac{\\sqrt{3} β_{322}}{4}, \\  \\frac{3 β_{311}}{4} + \\frac{β_{322}}{4}, \\  \\frac{β_{323}}{2}\\right] & \\left[ \\frac{\\sqrt{3} β_{323}}{2}, \\  \\frac{β_{323}}{2}, \\  β_{333}\\right]\\end{matrix}\\right]$",
            "text/plain": [
              "⎡  ⎡√3⋅β₁₁₂   √3⋅β₂₁₁   3⋅√3⋅β₂₂₂    β₁₁₂   3⋅β₂₁₁   3⋅β₂₂₂  β₁₁₃   3⋅β₂₂₃⎤   \n",
              "⎢  ⎢─────── + ─────── + ─────────, - ──── - ────── + ──────, ──── + ──────⎥   \n",
              "⎢  ⎣   4         8          8         4       8        8      4       4   ⎦   \n",
              "⎢                                                                             \n",
              "⎢⎡  3⋅β₁₁₂   β₂₁₁   3⋅β₂₂₂  √3⋅β₁₁₂   √3⋅β₂₁₁   √3⋅β₂₂₂    √3⋅β₁₁₃   √3⋅β₂₂₃⎤ \n",
              "⎢⎢- ────── + ──── + ──────, ─────── - ─────── + ───────, - ─────── + ───────⎥ \n",
              "⎢⎣    4       8       8        4         8         8          4         4   ⎦ \n",
              "⎢                                                                             \n",
              "⎢               ⎡β₃₁₁   3⋅β₃₂₂    √3⋅β₃₁₁   √3⋅β₃₂₂  √3⋅β₃₂₃⎤                 \n",
              "⎢               ⎢──── + ──────, - ─────── + ───────, ───────⎥                 \n",
              "⎣               ⎣ 4       4          4         4        2   ⎦                 \n",
              "\n",
              " ⎡  β₁₁₂   3⋅β₂₁₁   3⋅β₂₂₂    √3⋅β₁₁₂   3⋅√3⋅β₂₁₁   √3⋅β₂₂₂    √3⋅β₁₁₃   √3⋅β₂\n",
              " ⎢- ──── - ────── + ──────, - ─────── + ───────── + ───────, - ─────── + ─────\n",
              " ⎣   4       8        8          4          8          8          4         4 \n",
              "                                                                              \n",
              "       ⎡√3⋅β₁₁₂   √3⋅β₂₁₁   √3⋅β₂₂₂  3⋅β₁₁₂   3⋅β₂₁₁   β₂₂₂  3⋅β₁₁₃   β₂₂₃⎤   \n",
              "       ⎢─────── - ─────── + ───────, ────── + ────── + ────, ────── + ────⎥   \n",
              "       ⎣   4         8         8       4        8       8      4       4  ⎦   \n",
              "                                                                              \n",
              "                    ⎡  √3⋅β₃₁₁   √3⋅β₃₂₂  3⋅β₃₁₁   β₃₂₂  β₃₂₃⎤                \n",
              "                    ⎢- ─────── + ───────, ────── + ────, ────⎥                \n",
              "                    ⎣     4         4       4       4     2  ⎦                \n",
              "\n",
              "₂₃⎤  ⎡β₁₁₃   3⋅β₂₂₃    √3⋅β₁₁₃   √3⋅β₂₂₃  √3⋅β₂₃₃⎤⎤\n",
              "──⎥  ⎢──── + ──────, - ─────── + ───────, ───────⎥⎥\n",
              "  ⎦  ⎣ 4       4          4         4        2   ⎦⎥\n",
              "                                                  ⎥\n",
              "      ⎡  √3⋅β₁₁₃   √3⋅β₂₂₃  3⋅β₁₁₃   β₂₂₃  β₂₃₃⎤  ⎥\n",
              "      ⎢- ─────── + ───────, ────── + ────, ────⎥  ⎥\n",
              "      ⎣     4         4       4       4     2  ⎦  ⎥\n",
              "                                                  ⎥\n",
              "                 ⎡√3⋅β₃₂₃  β₃₂₃      ⎤            ⎥\n",
              "                 ⎢───────, ────, β₃₃₃⎥            ⎥\n",
              "                 ⎣   2      2        ⎦            ⎦"
            ]
          },
          "metadata": {
            "tags": []
          },
          "execution_count": 15
        }
      ]
    },
    {
      "cell_type": "code",
      "metadata": {
        "colab": {
          "base_uri": "https://localhost:8080/",
          "height": 109
        },
        "id": "4OGZ4rOl7Vqc",
        "outputId": "d785c212-209a-41ab-b1e2-2c5c67396389"
      },
      "source": [
        "Beta_3"
      ],
      "execution_count": null,
      "outputs": [
        {
          "output_type": "execute_result",
          "data": {
            "text/latex": "$\\displaystyle \\left[\\begin{matrix}\\left[ - \\frac{\\sqrt{3} β_{112}}{4} - \\frac{\\sqrt{3} β_{211}}{8} - \\frac{3 \\sqrt{3} β_{222}}{8}, \\  \\frac{β_{112}}{4} + \\frac{3 β_{211}}{8} - \\frac{3 β_{222}}{8}, \\  \\frac{β_{113}}{4} + \\frac{3 β_{223}}{4}\\right] & \\left[ \\frac{β_{112}}{4} + \\frac{3 β_{211}}{8} - \\frac{3 β_{222}}{8}, \\  \\frac{\\sqrt{3} β_{112}}{4} - \\frac{3 \\sqrt{3} β_{211}}{8} - \\frac{\\sqrt{3} β_{222}}{8}, \\  - \\frac{\\sqrt{3} β_{113}}{4} + \\frac{\\sqrt{3} β_{223}}{4}\\right] & \\left[ \\frac{β_{113}}{4} + \\frac{3 β_{223}}{4}, \\  - \\frac{\\sqrt{3} β_{113}}{4} + \\frac{\\sqrt{3} β_{223}}{4}, \\  - \\frac{\\sqrt{3} β_{233}}{2}\\right]\\\\\\left[ \\frac{3 β_{112}}{4} - \\frac{β_{211}}{8} - \\frac{3 β_{222}}{8}, \\  - \\frac{\\sqrt{3} β_{112}}{4} + \\frac{\\sqrt{3} β_{211}}{8} - \\frac{\\sqrt{3} β_{222}}{8}, \\  - \\frac{\\sqrt{3} β_{113}}{4} + \\frac{\\sqrt{3} β_{223}}{4}\\right] & \\left[ - \\frac{\\sqrt{3} β_{112}}{4} + \\frac{\\sqrt{3} β_{211}}{8} - \\frac{\\sqrt{3} β_{222}}{8}, \\  - \\frac{3 β_{112}}{4} - \\frac{3 β_{211}}{8} - \\frac{β_{222}}{8}, \\  \\frac{3 β_{113}}{4} + \\frac{β_{223}}{4}\\right] & \\left[ - \\frac{\\sqrt{3} β_{113}}{4} + \\frac{\\sqrt{3} β_{223}}{4}, \\  \\frac{3 β_{113}}{4} + \\frac{β_{223}}{4}, \\  - \\frac{β_{233}}{2}\\right]\\\\\\left[ \\frac{β_{311}}{4} + \\frac{3 β_{322}}{4}, \\  - \\frac{\\sqrt{3} β_{311}}{4} + \\frac{\\sqrt{3} β_{322}}{4}, \\  - \\frac{\\sqrt{3} β_{323}}{2}\\right] & \\left[ - \\frac{\\sqrt{3} β_{311}}{4} + \\frac{\\sqrt{3} β_{322}}{4}, \\  \\frac{3 β_{311}}{4} + \\frac{β_{322}}{4}, \\  - \\frac{β_{323}}{2}\\right] & \\left[ - \\frac{\\sqrt{3} β_{323}}{2}, \\  - \\frac{β_{323}}{2}, \\  β_{333}\\right]\\end{matrix}\\right]$",
            "text/plain": [
              "⎡  ⎡  √3⋅β₁₁₂   √3⋅β₂₁₁   3⋅√3⋅β₂₂₂  β₁₁₂   3⋅β₂₁₁   3⋅β₂₂₂  β₁₁₃   3⋅β₂₂₃⎤   \n",
              "⎢  ⎢- ─────── - ─────── - ─────────, ──── + ────── - ──────, ──── + ──────⎥   \n",
              "⎢  ⎣     4         8          8       4       8        8      4       4   ⎦   \n",
              "⎢                                                                             \n",
              "⎢⎡3⋅β₁₁₂   β₂₁₁   3⋅β₂₂₂    √3⋅β₁₁₂   √3⋅β₂₁₁   √3⋅β₂₂₂    √3⋅β₁₁₃   √3⋅β₂₂₃⎤ \n",
              "⎢⎢────── - ──── - ──────, - ─────── + ─────── - ───────, - ─────── + ───────⎥ \n",
              "⎢⎣  4       8       8          4         8         8          4         4   ⎦ \n",
              "⎢                                                                             \n",
              "⎢              ⎡β₃₁₁   3⋅β₃₂₂    √3⋅β₃₁₁   √3⋅β₃₂₂  -√3⋅β₃₂₃ ⎤                \n",
              "⎢              ⎢──── + ──────, - ─────── + ───────, ─────────⎥                \n",
              "⎣              ⎣ 4       4          4         4         2    ⎦                \n",
              "\n",
              " ⎡β₁₁₂   3⋅β₂₁₁   3⋅β₂₂₂  √3⋅β₁₁₂   3⋅√3⋅β₂₁₁   √3⋅β₂₂₂    √3⋅β₁₁₃   √3⋅β₂₂₃⎤ \n",
              " ⎢──── + ────── - ──────, ─────── - ───────── - ───────, - ─────── + ───────⎥ \n",
              " ⎣ 4       8        8        4          8          8          4         4   ⎦ \n",
              "                                                                              \n",
              "   ⎡  √3⋅β₁₁₂   √3⋅β₂₁₁   √3⋅β₂₂₂    3⋅β₁₁₂   3⋅β₂₁₁   β₂₂₂  3⋅β₁₁₃   β₂₂₃⎤   \n",
              "   ⎢- ─────── + ─────── - ───────, - ────── - ────── - ────, ────── + ────⎥   \n",
              "   ⎣     4         8         8         4        8       8      4       4  ⎦   \n",
              "                                                                              \n",
              "                 ⎡  √3⋅β₃₁₁   √3⋅β₃₂₂  3⋅β₃₁₁   β₃₂₂  -β₃₂₃ ⎤                 \n",
              "                 ⎢- ─────── + ───────, ────── + ────, ──────⎥                 \n",
              "                 ⎣     4         4       4       4      2   ⎦                 \n",
              "\n",
              " ⎡β₁₁₃   3⋅β₂₂₃    √3⋅β₁₁₃   √3⋅β₂₂₃  -√3⋅β₂₃₃ ⎤⎤\n",
              " ⎢──── + ──────, - ─────── + ───────, ─────────⎥⎥\n",
              " ⎣ 4       4          4         4         2    ⎦⎥\n",
              "                                                ⎥\n",
              "  ⎡  √3⋅β₁₁₃   √3⋅β₂₂₃  3⋅β₁₁₃   β₂₂₃  -β₂₃₃ ⎤  ⎥\n",
              "  ⎢- ─────── + ───────, ────── + ────, ──────⎥  ⎥\n",
              "  ⎣     4         4       4       4      2   ⎦  ⎥\n",
              "                                                ⎥\n",
              "            ⎡-√3⋅β₃₂₃   -β₃₂₃       ⎤           ⎥\n",
              "            ⎢─────────, ──────, β₃₃₃⎥           ⎥\n",
              "            ⎣    2        2         ⎦           ⎦"
            ]
          },
          "metadata": {
            "tags": []
          },
          "execution_count": 16
        }
      ]
    },
    {
      "cell_type": "markdown",
      "metadata": {
        "id": "h-qe6uZd7xrM"
      },
      "source": [
        "結果が複雑ですが、式(7)~(9)を代入した結果と式(6)が等しいことを考えれば、どの場合においても、次が成り立ちます。$\\rm j, k$成分を取り換えても同じです。\n",
        "$$\n",
        "\\beta_{113} = \\beta_{123} = \\beta_{223}\\\\\n",
        "\\beta_{112} = \\beta_{211} = -\\beta_{222} \\\\\n",
        "\\beta_{311} = \\beta_{322} \\\\\n",
        "\\beta_{233} = \\beta_{323} = \\beta_{332} = 0\n",
        "$$\n",
        "\n",
        "$\\beta_{333}$については他の成分についての関係はありません。したがって、BiFeO3の(111)配向での$\\vect{\\beta}$成分というのは、\n",
        "\n",
        "$$\n",
        "    \\left [ \n",
        "        \\matrix{\n",
        "            0& 0& 0& 0& \\beta_{113}& \\beta_{222} \\\\\n",
        "            -\\beta_{222}& \\beta_{222}& 0& \\beta_{223}& 0& 0 \\\\\n",
        "            \\beta_{311}& \\beta_{311}& \\beta_{333}& 0& 0& 0 \\\\\n",
        "            }\n",
        "    \\right ] \\tag{11}\n",
        "$$\n",
        "\n",
        "になります。"
      ]
    },
    {
      "cell_type": "code",
      "metadata": {
        "colab": {
          "base_uri": "https://localhost:8080/",
          "height": 78
        },
        "id": "3rOE5igw7f0S",
        "outputId": "f109fe37-f8e2-462b-a9e7-dba505faf385"
      },
      "source": [
        "Beta_111 = Matrix([\n",
        "    [[0, -b222, b113],[-b222, 0, 0],[b113, 0, 0]],\n",
        "    [[-b222, 0, 0],[0, b222, b223],[0, b223, 0]],\n",
        "    [[b311, 0, 0],[0, b311, 0],[0, 0, b333]]\n",
        "    ])\n",
        "Beta_111"
      ],
      "execution_count": null,
      "outputs": [
        {
          "output_type": "execute_result",
          "data": {
            "text/latex": "$\\displaystyle \\left[\\begin{matrix}\\left[ 0, \\  - β_{222}, \\  β_{113}\\right] & \\left[ - β_{222}, \\  0, \\  0\\right] & \\left[ β_{113}, \\  0, \\  0\\right]\\\\\\left[ - β_{222}, \\  0, \\  0\\right] & \\left[ 0, \\  β_{222}, \\  β_{223}\\right] & \\left[ 0, \\  β_{223}, \\  0\\right]\\\\\\left[ β_{311}, \\  0, \\  0\\right] & \\left[ 0, \\  β_{311}, \\  0\\right] & \\left[ 0, \\  0, \\  β_{333}\\right]\\end{matrix}\\right]$",
            "text/plain": [
              "⎡[0, -β₂₂₂, β₁₁₃]   [-β₂₂₂, 0, 0]   [β₁₁₃, 0, 0]⎤\n",
              "⎢                                               ⎥\n",
              "⎢ [-β₂₂₂, 0, 0]    [0, β₂₂₂, β₂₂₃]  [0, β₂₂₃, 0]⎥\n",
              "⎢                                               ⎥\n",
              "⎣  [β₃₁₁, 0, 0]     [0, β₃₁₁, 0]    [0, 0, β₃₃₃]⎦"
            ]
          },
          "metadata": {
            "tags": []
          },
          "execution_count": 17
        }
      ]
    },
    {
      "cell_type": "markdown",
      "metadata": {
        "id": "A9v-WtnN-ika"
      },
      "source": [
        "## おまけ\n",
        "今後やる人がいるのかはわかりませんが、STO(001)基板上に成膜させたBFOは配向が(001)になります。(111)から変えていましょう。\n",
        "\n",
        "配向を変える場合は、$\\vect{T}$は次のようになります。\n",
        "$$\n",
        "    \\vect{T}_{\\rm ij} = \\left [\n",
        "        \\matrix{\n",
        "            1&0&0 \\\\\n",
        "            0& \\cos{\\theta}&\\sin{\\theta} \\\\\n",
        "            0&-\\sin{\\theta}&\\cos{\\theta}\n",
        "        }\n",
        "    \\right ] \\tag{12}\n",
        "$$\n",
        "軸関係を考えると、この$\\theta$に$\\cos^{-1} \\frac{1}{\\sqrt{3}} $を代入すればいいわけで、\n",
        "$$\n",
        "    \\vect{T}_{\\rm ij} = \\left [\n",
        "        \\matrix{\n",
        "            1&0&0 \\\\\n",
        "            0& \\frac{1}{\\sqrt{3}}&-\\frac{\\sqrt{6}}{3}\\\\\n",
        "            0&\\frac{\\sqrt{6}}{3}&\\frac{1}{\\sqrt{3}}\n",
        "        }\n",
        "    \\right ] \\tag{13}\n",
        "$$\n",
        "となります。式(11)と(13)を式(2)に代入します。"
      ]
    },
    {
      "cell_type": "code",
      "metadata": {
        "colab": {
          "base_uri": "https://localhost:8080/",
          "height": 109
        },
        "id": "SVxfXwjS_94F",
        "outputId": "7d1c0e72-e993-41b5-96e0-d6de639395da"
      },
      "source": [
        "theta = acos(1/sqrt(3)) # or Symbol(\"θ\")\n",
        "T_001 = Matrix([[1,0,0], [0,cos(theta), sin(theta)], [0,-sin(theta), cos(theta)]])\n",
        "Beta_001 = calculate_tensor(Beta_111, T_001)\n",
        "Beta_001"
      ],
      "execution_count": null,
      "outputs": [
        {
          "output_type": "execute_result",
          "data": {
            "text/latex": "$\\displaystyle \\left[\\begin{matrix}\\left[ 0, \\  \\frac{\\sqrt{6} β_{113}}{3} - \\frac{\\sqrt{3} β_{222}}{3}, \\  \\frac{\\sqrt{3} β_{113}}{3} + \\frac{\\sqrt{6} β_{222}}{3}\\right] & \\left[ \\frac{\\sqrt{6} β_{113}}{3} - \\frac{\\sqrt{3} β_{222}}{3}, \\  0, \\  0\\right] & \\left[ \\frac{\\sqrt{3} β_{113}}{3} + \\frac{\\sqrt{6} β_{222}}{3}, \\  0, \\  0\\right]\\\\\\left[ - \\frac{\\sqrt{3} β_{222}}{3} + \\frac{\\sqrt{6} β_{311}}{3}, \\  0, \\  0\\right] & \\left[ 0, \\  \\frac{\\sqrt{3} β_{222}}{9} + \\frac{2 \\sqrt{6} β_{223}}{9} + \\frac{\\sqrt{6} β_{311}}{9} + \\frac{2 \\sqrt{6} β_{333}}{9}, \\  - \\frac{\\sqrt{6} β_{222}}{9} - \\frac{\\sqrt{3} β_{223}}{9} - \\frac{2 \\sqrt{3} β_{311}}{9} + \\frac{2 \\sqrt{3} β_{333}}{9}\\right] & \\left[ 0, \\  - \\frac{\\sqrt{6} β_{222}}{9} - \\frac{\\sqrt{3} β_{223}}{9} - \\frac{2 \\sqrt{3} β_{311}}{9} + \\frac{2 \\sqrt{3} β_{333}}{9}, \\  \\frac{2 \\sqrt{3} β_{222}}{9} - \\frac{2 \\sqrt{6} β_{223}}{9} + \\frac{2 \\sqrt{6} β_{311}}{9} + \\frac{\\sqrt{6} β_{333}}{9}\\right]\\\\\\left[ \\frac{\\sqrt{6} β_{222}}{3} + \\frac{\\sqrt{3} β_{311}}{3}, \\  0, \\  0\\right] & \\left[ 0, \\  - \\frac{\\sqrt{6} β_{222}}{9} - \\frac{4 \\sqrt{3} β_{223}}{9} + \\frac{\\sqrt{3} β_{311}}{9} + \\frac{2 \\sqrt{3} β_{333}}{9}, \\  \\frac{2 \\sqrt{3} β_{222}}{9} + \\frac{\\sqrt{6} β_{223}}{9} - \\frac{\\sqrt{6} β_{311}}{9} + \\frac{\\sqrt{6} β_{333}}{9}\\right] & \\left[ 0, \\  \\frac{2 \\sqrt{3} β_{222}}{9} + \\frac{\\sqrt{6} β_{223}}{9} - \\frac{\\sqrt{6} β_{311}}{9} + \\frac{\\sqrt{6} β_{333}}{9}, \\  - \\frac{2 \\sqrt{6} β_{222}}{9} + \\frac{4 \\sqrt{3} β_{223}}{9} + \\frac{2 \\sqrt{3} β_{311}}{9} + \\frac{\\sqrt{3} β_{333}}{9}\\right]\\end{matrix}\\right]$",
            "text/plain": [
              "⎡⎡   √6⋅β₁₁₃   √3⋅β₂₂₂  √3⋅β₁₁₃   √6⋅β₂₂₂⎤                                   ⎡\n",
              "⎢⎢0, ─────── - ───────, ─────── + ───────⎥                                   ⎢\n",
              "⎢⎣      3         3        3         3   ⎦                                   ⎣\n",
              "⎢                                                                             \n",
              "⎢       ⎡  √3⋅β₂₂₂   √6⋅β₃₁₁      ⎤         ⎡   √3⋅β₂₂₂   2⋅√6⋅β₂₂₃   √6⋅β₃₁₁ \n",
              "⎢       ⎢- ─────── + ───────, 0, 0⎥         ⎢0, ─────── + ───────── + ─────── \n",
              "⎢       ⎣     3         3         ⎦         ⎣      9          9          9    \n",
              "⎢                                                                             \n",
              "⎢        ⎡√6⋅β₂₂₂   √3⋅β₃₁₁      ⎤           ⎡     √6⋅β₂₂₂   4⋅√3⋅β₂₂₃   √3⋅β₃\n",
              "⎢        ⎢─────── + ───────, 0, 0⎥           ⎢0, - ─────── - ───────── + ─────\n",
              "⎣        ⎣   3         3         ⎦           ⎣        9          9          9 \n",
              "\n",
              "√6⋅β₁₁₃   √3⋅β₂₂₂      ⎤                                                      \n",
              "─────── - ───────, 0, 0⎥                                                      \n",
              "   3         3         ⎦                                                      \n",
              "                                                                              \n",
              "  2⋅√6⋅β₃₃₃    √6⋅β₂₂₂   √3⋅β₂₂₃   2⋅√3⋅β₃₁₁   2⋅√3⋅β₃₃₃⎤  ⎡     √6⋅β₂₂₂   √3⋅\n",
              "+ ─────────, - ─────── - ─────── - ───────── + ─────────⎥  ⎢0, - ─────── - ───\n",
              "      9           9         9          9           9    ⎦  ⎣        9         \n",
              "                                                                              \n",
              "₁₁   2⋅√3⋅β₃₃₃  2⋅√3⋅β₂₂₂   √6⋅β₂₂₃   √6⋅β₃₁₁   √6⋅β₃₃₃⎤    ⎡   2⋅√3⋅β₂₂₂   √6\n",
              "── + ─────────, ───────── + ─────── - ─────── + ───────⎥    ⎢0, ───────── + ──\n",
              "         9          9          9         9         9   ⎦    ⎣       9         \n",
              "\n",
              "               ⎡√3⋅β₁₁₃   √6⋅β₂₂₂      ⎤                                  ⎤\n",
              "               ⎢─────── + ───────, 0, 0⎥                                  ⎥\n",
              "               ⎣   3         3         ⎦                                  ⎥\n",
              "                                                                          ⎥\n",
              "β₂₂₃   2⋅√3⋅β₃₁₁   2⋅√3⋅β₃₃₃  2⋅√3⋅β₂₂₂   2⋅√6⋅β₂₂₃   2⋅√6⋅β₃₁₁   √6⋅β₃₃₃⎤⎥\n",
              "──── - ───────── + ─────────, ───────── - ───────── + ───────── + ───────⎥⎥\n",
              "9          9           9          9           9           9          9   ⎦⎥\n",
              "                                                                          ⎥\n",
              "⋅β₂₂₃   √6⋅β₃₁₁   √6⋅β₃₃₃    2⋅√6⋅β₂₂₂   4⋅√3⋅β₂₂₃   2⋅√3⋅β₃₁₁   √3⋅β₃₃₃⎤ ⎥\n",
              "───── - ─────── + ───────, - ───────── + ───────── + ───────── + ───────⎥ ⎥\n",
              " 9         9         9           9           9           9          9   ⎦ ⎦"
            ]
          },
          "metadata": {
            "tags": []
          },
          "execution_count": 18
        }
      ]
    },
    {
      "cell_type": "markdown",
      "metadata": {
        "id": "TtVA6Q7_AcXT"
      },
      "source": [
        "光を照射した際の電流密度$J_{<110>_{pc}}$における$\\vect{\\beta}^{'(001)}_{xxy}$は次の通りです"
      ]
    },
    {
      "cell_type": "code",
      "metadata": {
        "colab": {
          "base_uri": "https://localhost:8080/",
          "height": 56
        },
        "id": "UUbSTIVNAlqO",
        "outputId": "1841f612-6dfb-4e9b-a18e-99ce7cb976dc"
      },
      "source": [
        "Beta_001[0,0][1]"
      ],
      "execution_count": null,
      "outputs": [
        {
          "output_type": "execute_result",
          "data": {
            "image/png": "[encoded data removed]",
            "text/latex": "$\\displaystyle \\frac{\\sqrt{6} β_{113}}{3} - \\frac{\\sqrt{3} β_{222}}{3}$",
            "text/plain": [
              "√6⋅β₁₁₃   √3⋅β₂₂₂\n",
              "─────── - ───────\n",
              "   3         3   "
            ]
          },
          "metadata": {
            "tags": []
          },
          "execution_count": 19
        }
      ]
    }
  ]
}